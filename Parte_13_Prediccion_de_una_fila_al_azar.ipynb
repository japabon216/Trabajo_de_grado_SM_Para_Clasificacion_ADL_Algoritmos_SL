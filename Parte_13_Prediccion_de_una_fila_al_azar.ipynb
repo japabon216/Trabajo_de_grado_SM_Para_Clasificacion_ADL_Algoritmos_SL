{
  "nbformat": 4,
  "nbformat_minor": 0,
  "metadata": {
    "colab": {
      "provenance": [],
      "toc_visible": true,
      "authorship_tag": "ABX9TyMNby2H4U0V0tPC+2531zLQ",
      "include_colab_link": true
    },
    "kernelspec": {
      "name": "python3",
      "display_name": "Python 3"
    },
    "language_info": {
      "name": "python"
    }
  },
  "cells": [
    {
      "cell_type": "markdown",
      "metadata": {
        "id": "view-in-github",
        "colab_type": "text"
      },
      "source": [
        "<a href=\"https://colab.research.google.com/github/japabon216/Trabajo_de_grado_SM_Para_Clasificacion_ADL_Algoritmos_SL/blob/main/Parte_13_Prediccion_de_una_fila_al_azar.ipynb\" target=\"_parent\"><img src=\"https://colab.research.google.com/assets/colab-badge.svg\" alt=\"Open In Colab\"/></a>"
      ]
    },
    {
      "cell_type": "code",
      "execution_count": null,
      "metadata": {
        "id": "A0Aq7wcbZvBP"
      },
      "outputs": [],
      "source": [
        "from google.colab import drive\n",
        "import os\n",
        "import csv\n",
        "import pandas as pd\n",
        "import numpy as np\n",
        "import matplotlib.pyplot as plt\n",
        "drive.mount('/content/drive')"
      ]
    },
    {
      "cell_type": "markdown",
      "source": [
        "#-->Predicción de una unica fila al azar"
      ],
      "metadata": {
        "id": "ITfU1cKoM0tW"
      }
    },
    {
      "cell_type": "code",
      "source": [
        "from skmultiflow.data import DataStream\n",
        "import joblib\n",
        "from sklearn.metrics import accuracy_score, precision_score, f1_score, roc_auc_score, roc_curve\n",
        "import random\n",
        "\n",
        "modelo = joblib.load('/content/drive/MyDrive/TESIS_DATASET/Datasets definitivos_CSV/Modelos/Random_Forest_5_Actividades.pkl')\n",
        "'/content/drive/MyDrive/TESIS_DATASET/Datasets definitivos_CSV/Modelos/KNN_TODAS_LAS_FILAS_5_Actividades.pkl'\n",
        "\n",
        "# Escoge un índice aleatorio del conjunto de datos\n",
        "indice_aleatorio = random.randint(0, len(dataset9) - 1)\n",
        "\n",
        "# Obtén la fila correspondiente al índice aleatorio\n",
        "fila_aleatoria = dataset9.iloc[indice_aleatorio, :]\n",
        "\n",
        "# Extrae las características de la fila\n",
        "X_fila_aleatoria = fila_aleatoria.drop(\"Activity\")\n",
        "y_fila_aleatoria = fila_aleatoria[\"Activity\"]\n",
        "\n",
        "prediccion_fila_aleatoria = modelo.predict([X_fila_aleatoria])[0]\n",
        "\n",
        "print(f\"Predicción para la fila aleatoria: {prediccion_fila_aleatoria}\")\n",
        "print(f\"Actividad original: {y_fila_aleatoria}\")"
      ],
      "metadata": {
        "colab": {
          "base_uri": "https://localhost:8080/"
        },
        "id": "I0t-fuvGNR2s",
        "outputId": "b5b55b1b-db59-42d5-a1f9-a4bf75069690"
      },
      "execution_count": null,
      "outputs": [
        {
          "output_type": "stream",
          "name": "stdout",
          "text": [
            "Predicción para la fila aleatoria: 6\n",
            "Actividad original: 6.0\n"
          ]
        }
      ]
    },
    {
      "cell_type": "markdown",
      "source": [
        "#-->Predicción fila al azar y entrenamiento al tiempo"
      ],
      "metadata": {
        "id": "MskCeOHo1Jti"
      }
    },
    {
      "cell_type": "code",
      "source": [
        "from skmultiflow.data import DataStream\n",
        "import joblib\n",
        "from sklearn.metrics import accuracy_score, precision_score, f1_score, roc_auc_score, roc_curve\n",
        "import random\n",
        "\n",
        "modelo = joblib.load('/content/drive/MyDrive/TESIS_DATASET/Datasets definitivos_CSV/Modelos/Random_Forest_7_Actividades.pkl')\n",
        "\n",
        "# Escoge un índice aleatorio del conjunto de datos\n",
        "indice_aleatorio = random.randint(0, len(dataset9) - 1)\n",
        "\n",
        "# Obtén la fila correspondiente al índice aleatorio\n",
        "fila_aleatoria = dataset9.iloc[indice_aleatorio, :]\n",
        "\n",
        "# Extrae las características de la fila\n",
        "X_fila_aleatoria = fila_aleatoria.drop(\"Activity\")\n",
        "y_fila_aleatoria = fila_aleatoria[\"Activity\"]\n",
        "\n",
        "# Realiza la predicción para esta fila\n",
        "prediccion_fila_aleatoria = modelo.predict([X_fila_aleatoria])[0]\n",
        "\n",
        "print(f\"Predicción para la fila aleatoria: {prediccion_fila_aleatoria}\")\n",
        "print(f\"Actividad original: {y_fila_aleatoria}\")\n",
        "\n",
        "# Pregunta al usuario si la predicción fue correcta o incorrecta\n",
        "respuesta = input(\"¿La predicción fue correcta? (Sí/No): \")\n",
        "\n",
        "if respuesta.lower() == \"sí\":\n",
        "    y_usuario = int(prediccion_fila_aleatoria)\n",
        "else:\n",
        "    respuesta_correcta = input(\"Por favor, ingrese la respuesta correcta: \")\n",
        "    print(\"La respuesta ingresada es:\", respuesta_correcta)\n",
        "    y_usuario = int(respuesta_correcta)\n",
        "\n",
        "# Actualiza el modelo incremental con la información del usuario\n",
        "modelo.partial_fit([X_fila_aleatoria], [y_usuario])\n"
      ],
      "metadata": {
        "colab": {
          "base_uri": "https://localhost:8080/"
        },
        "id": "QvIHPB5W1HgE",
        "outputId": "7354b9a0-2e83-459b-b5f9-4fade2f28bb0"
      },
      "execution_count": null,
      "outputs": [
        {
          "output_type": "stream",
          "name": "stdout",
          "text": [
            "Predicción para la fila aleatoria: 16\n",
            "Actividad original: 18.0\n",
            "¿La predicción fue correcta? (Sí/No): No\n",
            "Por favor, ingrese la respuesta correcta: 18\n",
            "La respuesta ingresada es: 18\n"
          ]
        },
        {
          "output_type": "execute_result",
          "data": {
            "text/plain": [
              "AdaptiveRandomForestClassifier(binary_split=False, disable_weighted_vote=False,\n",
              "                               drift_detection_method=ADWIN(delta=0.001),\n",
              "                               grace_period=50, lambda_value=6,\n",
              "                               leaf_prediction='nba', max_byte_size=33554432,\n",
              "                               max_features=7, memory_estimate_period=2000000,\n",
              "                               n_estimators=10, nb_threshold=0,\n",
              "                               no_preprune=False, nominal_attributes=None,\n",
              "                               performance_metric='acc', random_state=None,\n",
              "                               remove_poor_atts=False, split_confidence=0.01,\n",
              "                               split_criterion='info_gain',\n",
              "                               stop_mem_management=False, tie_threshold=0.05,\n",
              "                               warning_detection_method=ADWIN(delta=0.01))"
            ]
          },
          "metadata": {},
          "execution_count": 6
        }
      ]
    },
    {
      "cell_type": "markdown",
      "source": [
        "Ahora proporcinamos la opción para continuar realizando predicciones"
      ],
      "metadata": {
        "id": "b-QkYo71ii51"
      }
    },
    {
      "cell_type": "code",
      "source": [
        "from skmultiflow.data import DataStream\n",
        "import joblib\n",
        "from sklearn.metrics import accuracy_score, precision_score, f1_score, roc_auc_score, roc_curve\n",
        "import random\n",
        "\n",
        "modelo = joblib.load('/content/drive/MyDrive/TESIS_DATASET/Datasets definitivos_CSV/Modelos/Random_Forest_5_Actividades.pkl')\n",
        "\n",
        "continuar = True\n",
        "\n",
        "while continuar:\n",
        "    # Escoge un índice aleatorio del conjunto de datos\n",
        "    indice_aleatorio = random.randint(0, len(dataset9) - 1)\n",
        "\n",
        "    # Obtén la fila correspondiente al índice aleatorio\n",
        "    fila_aleatoria = dataset9.iloc[indice_aleatorio, :]\n",
        "\n",
        "    # Extrae las características de la fila\n",
        "    X_fila_aleatoria = fila_aleatoria.drop(\"Activity\")\n",
        "    y_fila_aleatoria = fila_aleatoria[\"Activity\"]\n",
        "\n",
        "    # Realiza la predicción para esta fila\n",
        "    prediccion_fila_aleatoria = modelo.predict([X_fila_aleatoria])[0]\n",
        "\n",
        "    print(f\"Predicción para la fila aleatoria: {prediccion_fila_aleatoria}\")\n",
        "    print(f\"Actividad original: {y_fila_aleatoria}\")\n",
        "\n",
        "    # Pregunta al usuario si la predicción fue correcta o incorrecta\n",
        "    respuesta = input(\"¿La predicción fue correcta? (s/n): \")\n",
        "\n",
        "    if respuesta.lower() == \"s\":\n",
        "        y_usuario = int(prediccion_fila_aleatoria)\n",
        "    else:\n",
        "        respuesta_correcta = input(\"Por favor, ingrese la respuesta correcta: \")\n",
        "        y_usuario = int(respuesta_correcta)\n",
        "\n",
        "    # Actualiza el modelo incremental con la información del usuario\n",
        "    modelo.partial_fit([X_fila_aleatoria], [y_usuario])\n",
        "    print(\"El modeo se actualizó correctamente\")\n",
        "    # Pregunta al usuario si desea realizar otra predicción\n",
        "    continuar_respuesta = input(\"¿Desea realizar otra predicción? (s/n): \")\n",
        "    if continuar_respuesta.lower() != \"s\":\n",
        "        continuar = False\n"
      ],
      "metadata": {
        "colab": {
          "base_uri": "https://localhost:8080/"
        },
        "id": "Rq8Bb6s16-Z1",
        "outputId": "55143f6d-b03d-4d62-a765-696b1cfd43ec"
      },
      "execution_count": null,
      "outputs": [
        {
          "name": "stdout",
          "output_type": "stream",
          "text": [
            "Predicción para la fila aleatoria: 16\n",
            "Actividad original: 16.0\n",
            "El modeo se actualizó correctamente\n",
            "Predicción para la fila aleatoria: 6\n",
            "Actividad original: 6.0\n",
            "El modeo se actualizó correctamente\n",
            "¿Desea realizar otra predicción? (s/n): n\n"
          ]
        }
      ]
    }
  ]
}